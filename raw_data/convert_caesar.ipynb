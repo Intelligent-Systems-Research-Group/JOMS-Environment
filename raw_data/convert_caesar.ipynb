{
 "cells": [
  {
   "cell_type": "code",
   "execution_count": 20,
   "metadata": {},
   "outputs": [],
   "source": [
    "from scipy.io import loadmat\n",
    "import meshplot as mp\n",
    "import numpy as np\n",
    "from pathlib import Path\n",
    "import open3d as o3d #install with conda\n",
    "from tqdm import tqdm\n",
    "from multiprocessing import Pool\n",
    "import h5py"
   ]
  },
  {
   "cell_type": "code",
   "execution_count": 21,
   "metadata": {},
   "outputs": [],
   "source": [
    "data_ids = loadmat('VertexIdxSpecParts.mat')\n",
    "hands = data_ids['idxHand']-1\n",
    "data = loadmat('faceShapeModel.mat')\n",
    "f = data['faces'] - 1\n",
    "not_hands = [i for i in range(f.max()+1) if i not in hands]\n",
    "mask = np.all(np.isin(f,not_hands),axis=1)\n",
    "f = f[mask]\n",
    "source_folder = Path('caesar-fitted-meshes')\n",
    "target_folder = Path('../dataset/scans/')"
   ]
  },
  {
   "cell_type": "code",
   "execution_count": 23,
   "metadata": {},
   "outputs": [],
   "source": [
    "def convert(source_path):\n",
    "    #print(source_path)\n",
    "    if not source_path.suffix == '.mat': \n",
    "        return\n",
    "    #print(source_path)\n",
    "    filename = source_path.relative_to(source_folder)\n",
    "    target_subfolder = target_folder / filename.with_suffix('')\n",
    "    target_subfolder = target_subfolder.absolute()\n",
    "    #print(target_subfolder)\n",
    "    target_subfolder.mkdir(parents=False, exist_ok=True)\n",
    "    \n",
    "    dest = target_subfolder/filename.with_suffix('.xyz')\n",
    "    if dest.is_file():\n",
    "        return\n",
    "    data = loadmat(source_path)\n",
    "    v = data['points'] / 1000\n",
    "    vmesh = o3d.utility.Vector3dVector(v)\n",
    "    fmesh = o3d.utility.Vector3iVector(f)\n",
    "    mesh = o3d.geometry.TriangleMesh(vmesh,fmesh)\n",
    "    mesh = mesh.compute_vertex_normals()\n",
    "    \n",
    "    cluster_idx, cluster_size, _ = [np.asarray(x) for x in mesh.cluster_connected_triangles()]\n",
    "    tri_mask = cluster_idx != np.argmax(cluster_size)\n",
    "    mesh.remove_triangles_by_mask(tri_mask)\n",
    "    \n",
    "    o3dCloud = mesh.sample_points_poisson_disk(20000)\n",
    "    \n",
    "    cloudv = np.asarray(o3dCloud.points)\n",
    "    cloudn = np.asarray(o3dCloud.normals)\n",
    "    cloudc = np.hstack([cloudv,cloudn])\n",
    "    \n",
    "    np.savetxt(str(dest), cloudc, delimiter=' ',\n",
    "              fmt='%f')\n",
    "    #mp.plot(cloudc[:,:3])\n",
    "    #mp.plot(v,f)\n",
    "    #break\n"
   ]
  },
  {
   "cell_type": "code",
   "execution_count": 24,
   "metadata": {},
   "outputs": [
    {
     "name": "stderr",
     "output_type": "stream",
     "text": [
      "100%|██████████| 4309/4309 [00:00<00:00, 12204.34it/s]\n"
     ]
    }
   ],
   "source": [
    "pathlist = list(source_folder.iterdir())\n",
    "\n",
    "with Pool(processes=20) as p:\n",
    "    with tqdm(total=len(pathlist)) as pbar:\n",
    "        for i, _ in enumerate(p.imap_unordered(convert, pathlist)):\n",
    "            pbar.update()\n",
    "#for source_path in tqdm(list(source_folder.iterdir())):\n",
    "    "
   ]
  },
  {
   "cell_type": "code",
   "execution_count": 28,
   "metadata": {},
   "outputs": [
    {
     "name": "stdout",
     "output_type": "stream",
     "text": [
      "caesar-fitted-meshes/nl_5785a.mat\n",
      "caesar-fitted-meshes/nl_5782a.mat\n",
      "caesar-fitted-meshes/nl_5780a.mat\n",
      "caesar-fitted-meshes/nl_5786a.mat\n",
      "caesar-fitted-meshes/nl_5784a.mat\n",
      "caesar-fitted-meshes/nl_5783a.mat\n"
     ]
    }
   ],
   "source": [
    "for x in pathlist:\n",
    "    if 'nl_578' in str(x):\n",
    "        print(x)"
   ]
  },
  {
   "cell_type": "code",
   "execution_count": 41,
   "metadata": {},
   "outputs": [
    {
     "name": "stdout",
     "output_type": "stream",
     "text": [
      "['50002_chicken_wings', '50002_hips', '50002_jiggle_on_toes', '50002_jumping_jacks', '50002_knees', '50002_light_hopping_loose', '50002_light_hopping_stiff', '50002_one_leg_jump', '50002_one_leg_loose', '50002_punching', '50002_running_on_spot', '50002_shake_arms', '50002_shake_hips', '50002_shake_shoulders', '50007_chicken_wings', '50007_jiggle_on_toes', '50007_jumping_jacks', '50007_knees', '50007_light_hopping_loose', '50007_light_hopping_stiff', '50007_one_leg_jump', '50007_one_leg_loose', '50007_punching', '50007_running_on_spot', '50007_shake_arms', '50007_shake_hips', '50007_shake_shoulders', '50009_chicken_wings', '50009_hips', '50009_jiggle_on_toes', '50009_jumping_jacks', '50009_light_hopping_loose', '50009_light_hopping_stiff', '50009_one_leg_jump', '50009_one_leg_loose', '50009_punching', '50009_running_on_spot', '50009_shake_hips', '50026_chicken_wings', '50026_hips', '50026_jiggle_on_toes', '50026_jumping_jacks', '50026_knees', '50026_light_hopping_loose', '50026_light_hopping_stiff', '50026_one_leg_jump', '50026_one_leg_loose', '50026_punching', '50026_running_on_spot', '50026_shake_arms', '50026_shake_hips', '50026_shake_shoulders', '50027_hips', '50027_jiggle_on_toes', '50027_jumping_jacks', '50027_knees', '50027_light_hopping_loose', '50027_light_hopping_stiff', '50027_one_leg_jump', '50027_one_leg_loose', '50027_punching', '50027_running_on_spot', '50027_shake_arms', '50027_shake_hips', '50027_shake_shoulders', 'faces']\n",
      "(6890, 3, 216)\n"
     ]
    },
    {
     "data": {
      "application/vnd.jupyter.widget-view+json": {
       "model_id": "36b0a813b10843fd87d0ef43eb31e204",
       "version_major": 2,
       "version_minor": 0
      },
      "text/plain": [
       "Renderer(camera=PerspectiveCamera(children=(DirectionalLight(color='white', intensity=0.6, position=(0.0263963…"
      ]
     },
     "metadata": {},
     "output_type": "display_data"
    },
    {
     "data": {
      "text/plain": [
       "<meshplot.Viewer.Viewer at 0x7f8378ea7518>"
      ]
     },
     "execution_count": 41,
     "metadata": {},
     "output_type": "execute_result"
    }
   ],
   "source": [
    "verts = None\n",
    "with h5py.File('dfaust/registrations_m.hdf5') as g:\n",
    "    keys = list(g.keys())\n",
    "    sorted(keys)\n",
    "    print(keys)\n",
    "    f = g['faces'].value.copy()\n",
    "    verts = g['50002_chicken_wings'].value.copy()\n",
    "    print(verts.shape)\n",
    "mp.plot(verts[:,:,0],f)"
   ]
  },
  {
   "cell_type": "code",
   "execution_count": 6,
   "metadata": {},
   "outputs": [],
   "source": [
    "\n",
    "def convert_dfaust(params):\n",
    "    person_name, scan_name, v  = params\n",
    "        #print(source_path)\n",
    "        \n",
    "    #print(source_path)\n",
    "    filename = Path(scan_name)\n",
    "    target_subfolder = target_folder / person_name\n",
    "    target_subfolder = target_subfolder.absolute()\n",
    "    #print(target_subfolder)\n",
    "    target_subfolder.mkdir(parents=False, exist_ok=True)\n",
    "    if (target_subfolder/filename).is_file():\n",
    "        return\n",
    "\n",
    "    #v = data['points'] / 1000\n",
    "    vmesh = o3d.utility.Vector3dVector(v)\n",
    "    fmesh = o3d.utility.Vector3iVector(f)\n",
    "    mesh = o3d.geometry.TriangleMesh(vmesh,fmesh)\n",
    "    mesh = mesh.compute_vertex_normals()\n",
    "    \n",
    "    cluster_idx, cluster_size, _ = [np.asarray(x) for x in mesh.cluster_connected_triangles()]\n",
    "    tri_mask = cluster_idx != np.argmax(cluster_size)\n",
    "    mesh.remove_triangles_by_mask(tri_mask)\n",
    "    \n",
    "    o3dCloud = mesh.sample_points_poisson_disk(20000)\n",
    "    \n",
    "    cloudv = np.asarray(o3dCloud.points)\n",
    "    cloudn = np.asarray(o3dCloud.normals)\n",
    "    cloudc = np.hstack([cloudv,cloudn])\n",
    "    \n",
    "    np.savetxt(str(target_subfolder/filename), cloudc, delimiter=' ',\n",
    "              fmt='%f')"
   ]
  },
  {
   "cell_type": "code",
   "execution_count": 7,
   "metadata": {},
   "outputs": [],
   "source": [
    "convert_dfaust((\"50002\",\"chicken_wings.000000.xyz\",verts[:,:,0]))"
   ]
  },
  {
   "cell_type": "code",
   "execution_count": 8,
   "metadata": {},
   "outputs": [],
   "source": [
    "#param_list = [(\"50002\",\"chicken_wings.%06d.xyz\" % i,verts[:,:,i].copy()) for i in range(verts.shape[2])]\n"
   ]
  },
  {
   "cell_type": "code",
   "execution_count": 29,
   "metadata": {},
   "outputs": [
    {
     "name": "stderr",
     "output_type": "stream",
     "text": [
      "100%|██████████| 216/216 [01:45<00:00,  3.08it/s]\n"
     ]
    }
   ],
   "source": [
    "\n",
    "with Pool(processes=20) as p:\n",
    "    with tqdm(total=len(param_list)) as pbar:\n",
    "        for i, _ in enumerate(p.imap_unordered(convert_dfaust, param_list)):\n",
    "            pbar.update()"
   ]
  },
  {
   "cell_type": "code",
   "execution_count": 18,
   "metadata": {},
   "outputs": [],
   "source": [
    "#verts = None\n",
    "mapper = None\n",
    "import json\n",
    "with open('dfaust_registration_to_scan_ids.json','r') as g:\n",
    "    mapper = json.load(g)\n",
    "param_list = []\n",
    "for sex in ['m','f']:\n",
    "    with h5py.File('dfaust/registrations_%s.hdf5' % sex) as g:\n",
    "        f = g['faces'].value.copy()\n",
    "        #print(g.keys())\n",
    "        for k in g.keys():\n",
    "            if k == 'faces':\n",
    "                continue\n",
    "\n",
    "            pid,sid = k.split('_')[0],\"_\".join(k.split('_')[1:])\n",
    "            verts = g[k].value.copy()\n",
    "\n",
    "\n",
    "\n",
    "\n",
    "            for i in range (verts.shape[2]):\n",
    "                j = mapper[k][i]\n",
    "                param_list.append((pid,\"%s.%06d.xyz\" % (sid,j),verts[:,:,i]))\n",
    "            #print(verts.shape)"
   ]
  },
  {
   "cell_type": "code",
   "execution_count": 19,
   "metadata": {},
   "outputs": [
    {
     "name": "stderr",
     "output_type": "stream",
     "text": [
      "100%|██████████| 41220/41220 [00:26<00:00, 1540.74it/s]\n"
     ]
    }
   ],
   "source": [
    "with Pool(processes=20) as p:\n",
    "    with tqdm(total=len(param_list)) as pbar:\n",
    "        for i, _ in enumerate(p.imap_unordered(convert_dfaust, param_list)):\n",
    "            pbar.update()"
   ]
  },
  {
   "cell_type": "code",
   "execution_count": 16,
   "metadata": {},
   "outputs": [],
   "source": [
    "#create idx list\n",
    "mapper = {}\n",
    "gtfolder = Path('/media/caduser/data/projects/hyperdocker/hypermod/dataset/scans')\n",
    "for sex in ['m','f']:\n",
    "    with h5py.File('dfaust/registrations_%s.hdf5' % sex) as g:\n",
    "        for k in g.keys():\n",
    "            if k == 'faces':\n",
    "                continue\n",
    "            size = g[k].value.shape[2]\n",
    "            pid,sid = k.split('_')[0],\"_\".join(k.split('_')[1:])\n",
    "\n",
    "            person_folder = gtfolder/pid\n",
    "            idxmin = 99999999\n",
    "            idxmax = -1\n",
    "            idxcount = 0\n",
    "            idxlist = []\n",
    "            for filename in person_folder.iterdir():\n",
    "                split = filename.with_suffix('').name.split('.')\n",
    "                if len(split) != 2:\n",
    "                    print(filename)\n",
    "                fsid,fid = split\n",
    "                if fsid != sid:\n",
    "                    continue\n",
    "                idxcount += 1\n",
    "                if idxmin > int(fid):\n",
    "                    idxmin = int(fid)\n",
    "                if idxmax < int(fid):\n",
    "                    idxmax = int(fid)\n",
    "                idxlist.append(int(fid))\n",
    "            idxlist = sorted(idxlist)\n",
    "            mapper[k] = idxlist\n",
    "            assert(idxcount == size)"
   ]
  },
  {
   "cell_type": "code",
   "execution_count": 17,
   "metadata": {},
   "outputs": [],
   "source": [
    "import json\n",
    "with open('dfaust_registration_to_scan_ids.json','w') as g:\n",
    "    json.dump(mapper,g)"
   ]
  },
  {
   "cell_type": "code",
   "execution_count": null,
   "metadata": {},
   "outputs": [],
   "source": []
  }
 ],
 "metadata": {
  "kernelspec": {
   "display_name": "Python 3",
   "language": "python",
   "name": "python3"
  },
  "language_info": {
   "codemirror_mode": {
    "name": "ipython",
    "version": 3
   },
   "file_extension": ".py",
   "mimetype": "text/x-python",
   "name": "python",
   "nbconvert_exporter": "python",
   "pygments_lexer": "ipython3",
   "version": "3.7.3"
  }
 },
 "nbformat": 4,
 "nbformat_minor": 4
}
