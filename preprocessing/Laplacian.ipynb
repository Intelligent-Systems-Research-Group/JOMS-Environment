{
 "cells": [
  {
   "cell_type": "markdown",
   "metadata": {},
   "source": [
    "# Laplace-Beltrami Operator\n",
    "\n",
    "This notebook computes the ```laplacian.txt``` file for a given a quad-only template mesh. The Laplacian is used to reduce unrealistic shape deformations during training.\n",
    "\n",
    "We compute the discrete Laplacian following http://ddg.math.uni-goettingen.de/pub/Polygonal_Laplace.pdf. In (5) a symmetric, positive defnite matrix $M_f \\in \\mathbb{R}^{4 \\times 4}$ is introduced for each face with $1 \\le f \\le F$ where $F$ is the number of faces. The code factors each $M_f$ with a cholesky factorization $M_f = A_fA_f^T$ leading to the factors $A_f$ and $A_f^T$. \n",
    "\n",
    "The matrices $A_f^T$ are converted to vectors (concatenating the matrix rows) and the resulting vectors are concatenated leading to a vector $(\\operatorname{vec}(A_1^T),\\operatorname{vec}(A_2^T),\\cdots,\\operatorname{vec}(A_F^T)) \\in \\mathbb{R}^{16F}$. This vector is stored in ```laplacian.txt```."
   ]
  },
  {
   "cell_type": "code",
   "execution_count": 1,
   "metadata": {},
   "outputs": [],
   "source": [
    "import numpy as np\n",
    "from scipy.linalg import block_diag\n",
    "from scipy.linalg import orth\n",
    "import scipy as sp\n",
    "import numpy.linalg as la\n",
    "import scipy.linalg as spla\n",
    "from matplotlib import cm\n",
    "import matplotlib.pylab as plt\n",
    "import matplotlib as mpl\n",
    "import meshplot as mp\n",
    "from ipywidgets import interact, interactive, fixed, interact_manual, IntSlider\n",
    "import ipywidgets as widgets"
   ]
  },
  {
   "cell_type": "code",
   "execution_count": 2,
   "metadata": {},
   "outputs": [],
   "source": [
    "def read_wavefront(path):\n",
    "    with open( path, 'r') as fp:\n",
    "        vertices = []\n",
    "        faces = []\n",
    "        normals = []\n",
    "        for line in fp:\n",
    "            if line.startswith('#'):\n",
    "                continue\n",
    "            parts = line.split()\n",
    "            if len(parts) == 0:\n",
    "                continue\n",
    "            if parts[0] == 'v':\n",
    "                vertices.append( np.array([float(x) for x in parts[1:] ]) )\n",
    "            elif parts[0] == 'vn':\n",
    "                normals.append( np.array([float(x) for x in parts[1:] ]) )\n",
    "            elif parts[0] == 'f':\n",
    "                stripped = [int(x.split('//')[0]) - 1 for x in parts[1:] ]\n",
    "                faces.append(np.array(stripped,dtype=np.int))\n",
    "            elif parts[0] == 'g':\n",
    "                continue\n",
    "            elif parts[0] == 's':\n",
    "                continue\n",
    "            else:\n",
    "                return None\n",
    "        f = np.vstack(faces)\n",
    "\n",
    "        return np.vstack(vertices), f"
   ]
  },
  {
   "cell_type": "code",
   "execution_count": 3,
   "metadata": {},
   "outputs": [],
   "source": [
    "def quadLaplace(v,f):\n",
    "    outtype = np.float64\n",
    "    vertexFaceAdj = {}\n",
    "    for fi, face in enumerate(f):\n",
    "        for vert in face:\n",
    "            if not vert in vertexFaceAdj:\n",
    "                vertexFaceAdj[vert] = []\n",
    "            vertexFaceAdj[vert].append(fi)\n",
    "    E = np.zeros([f.shape[0],4,3],dtype=outtype)\n",
    "    Ebar = np.zeros([f.shape[0],4,3],dtype=outtype)\n",
    "    B = np.zeros([f.shape[0],4,3],dtype=outtype)\n",
    "    M1 = []\n",
    "    M1_flat = np.zeros([4*f.shape[0],4*f.shape[0]],dtype=outtype)\n",
    "    M0 = np.zeros([v.shape[0]],dtype=outtype)\n",
    "    faceArea = np.zeros([f.shape[0]],dtype=outtype)\n",
    "    d = np.zeros([4*f.shape[0],v.shape[0]],dtype=outtype)\n",
    "    for fi, face in enumerate(f):\n",
    "        for i in range(4):\n",
    "            j = (i+1) % 4\n",
    "            E[fi,i] = v[face[j]] - v[face[i]]\n",
    "            B[fi,i] = .5 * (v[face[j]] + v[face[i]])\n",
    "        A = E[fi].T.dot(B[fi])\n",
    "        fA = np.linalg.norm(A)/np.sqrt(2)\n",
    "        \n",
    "        faceArea[fi] = fA\n",
    "        \n",
    "        Mcurl = (1.0/fA)* B[fi].dot(B[fi].T)\n",
    "        nv = np.array([-A[1,2],A[0,2],-A[0,1]])\n",
    "        n = nv / np.linalg.norm(nv)\n",
    "        xbar = np.zeros([4,3],dtype=outtype)\n",
    "        for i in range(4):\n",
    "            xbar[i] = v[face[i]] - v[face[i]].dot(n.T)*n\n",
    "        for i in range(4):\n",
    "            j = (i+1) % 4\n",
    "            Ebar[fi,i] = xbar[j] - xbar[i]\n",
    "        _, sigma, VT = la.svd(Ebar[fi].T)\n",
    "        ns = (sigma>=1e-13).sum()\n",
    "        C = VT[ns:].conj().T\n",
    "        U = 2*np.eye(C.shape[1])\n",
    "        mf = Mcurl + C.dot(U).dot(C.T)\n",
    "        M1.append(mf)\n",
    "        for i in range(4):\n",
    "            j = (i+1) % 4\n",
    "            d[4*fi+i,face[i]] = -1\n",
    "            d[4*fi+i,face[j]] = 1\n",
    "        for i in range(4):\n",
    "            vId = face[i]\n",
    "            k = len(vertexFaceAdj[vId])\n",
    "            M0[vId] = M0[vId] + fA/k\n",
    "    M1_factored = []\n",
    "    for i in range(f.shape[0]):\n",
    "        chol = np.linalg.cholesky(M1[i]).T\n",
    "        M1_factored.append(chol)\n",
    "    M1_flat = sp.linalg.block_diag(*M1)\n",
    "    D = np.reciprocal(M0, where= M0 != 0)\n",
    "    L_weak = d.T.dot(M1_flat).dot(d)\n",
    "    L_strong = np.diag(D).dot(L_weak)\n",
    "    L_graph = d.T.dot(d)\n",
    "    \n",
    "    Dsqrt = np.sqrt(D)  \n",
    "    M1sqrt = sp.sparse.block_diag(M1_factored,format=\"bsr\")\n",
    "    return L_weak, L_strong, L_graph, M1sqrt.dot(d), M1_factored\n",
    "\n",
    "v,f = read_wavefront('shape.obj')\n",
    "\n",
    "lmbda = 10.5\n",
    "\n",
    "L_weak, L_strong, L_graph, L_sqrt, M1_sqrt  = quadLaplace(v,f)\n",
    "with open(\"laplacian.txt\",'w') as File:\n",
    "    for chol in M1_sqrt:\n",
    "        for elem in range(16):\n",
    "            File.write(str(chol[elem//4, elem%4])+\"\\n\")"
   ]
  },
  {
   "cell_type": "code",
   "execution_count": 4,
   "metadata": {},
   "outputs": [
    {
     "data": {
      "text/plain": [
       "[<matplotlib.lines.Line2D at 0x7f3ff7375dc0>]"
      ]
     },
     "execution_count": 4,
     "metadata": {},
     "output_type": "execute_result"
    },
    {
     "data": {
      "image/png": "[encoded data removed]",
      "text/plain": [
       "<Figure size 432x288 with 1 Axes>"
      ]
     },
     "metadata": {
      "needs_background": "light"
     },
     "output_type": "display_data"
    }
   ],
   "source": [
    "Le, Lv = np.linalg.eigh(L_weak)\n",
    "idx = Le.argsort()\n",
    "Le = Le[idx]\n",
    "Lv = Lv[:,idx]\n",
    "plt.plot(Le)"
   ]
  },
  {
   "cell_type": "markdown",
   "metadata": {},
   "source": [
    "Meshplot is buggy and the normalization settings do not work. We add two fake vertices and color values to control the min/max values"
   ]
  },
  {
   "cell_type": "code",
   "execution_count": 5,
   "metadata": {},
   "outputs": [
    {
     "data": {
      "application/vnd.jupyter.widget-view+json": {
       "model_id": "266099904ec7488a8d7d30bca9182735",
       "version_major": 2,
       "version_minor": 0
      },
      "text/plain": [
       "Renderer(camera=PerspectiveCamera(children=(DirectionalLight(color='white', intensity=0.6, position=(0.0, -0.0…"
      ]
     },
     "metadata": {},
     "output_type": "display_data"
    },
    {
     "data": {
      "application/vnd.jupyter.widget-view+json": {
       "model_id": "70a752f98c9e481c85b703a69162686c",
       "version_major": 2,
       "version_minor": 0
      },
      "text/plain": [
       "interactive(children=(IntSlider(value=0, description='x', max=50), Output()), _dom_classes=('widget-interact',…"
      ]
     },
     "metadata": {},
     "output_type": "display_data"
    }
   ],
   "source": [
    "norm = mpl.colors.Normalize(vmin=-1.,vmax=1.)\n",
    "vdummpy = np.vstack([v,[0,0,0],[0,0,0]])\n",
    "p = mp.plot(vdummpy,f,c=np.zeros(vdummpy.shape[0],dtype=np.float32),shading={\n",
    "    \"colormap\": plt.cm.get_cmap(\"viridis\"),\n",
    "})\n",
    "def eigenvector_callback(x):\n",
    "    vis = Lv[:,x].copy()  \n",
    "    boundary = np.abs(Lv[:,:51]).max()\n",
    "    print(boundary)\n",
    "    vis = np.concatenate([vis,[-boundary,boundary]])\n",
    "    #vis = (vis-vis.mean()) / (2*vis.std()) #+ .5\n",
    "    p.update_object(colors=vis)\n",
    "interact(eigenvector_callback, x=widgets.IntSlider(min=0, max=50, step=1, value=0));"
   ]
  }
 ],
 "metadata": {
  "kernelspec": {
   "display_name": "Python 3",
   "language": "python",
   "name": "python3"
  },
  "language_info": {
   "codemirror_mode": {
    "name": "ipython",
    "version": 3
   },
   "file_extension": ".py",
   "mimetype": "text/x-python",
   "name": "python",
   "nbconvert_exporter": "python",
   "pygments_lexer": "ipython3",
   "version": "3.8.3"
  }
 },
 "nbformat": 4,
 "nbformat_minor": 4
}
